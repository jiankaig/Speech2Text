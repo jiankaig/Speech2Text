{
 "cells": [
  {
   "cell_type": "code",
   "execution_count": null,
   "metadata": {},
   "outputs": [],
   "source": [
    "from Wave2Vec2.model import Wave2Vec2\n",
    "%load_ext autoreload\n",
    "%autoreload 2\n",
    "\n",
    "audio_filename = 'out.wav'\n",
    "output_text_filename = 'output.txt'\n",
    "\n",
    "# load SOTA model\n",
    "cls = Wave2Vec2(\"facebook/wav2vec2-large-robust-ft-libri-960h\",False)"
   ]
  },
  {
   "cell_type": "code",
   "execution_count": null,
   "metadata": {},
   "outputs": [],
   "source": [
    "# vectorise raw audio into tensor array\n",
    "encoded_audio = cls.load_wav_file(audio_filename)"
   ]
  },
  {
   "cell_type": "code",
   "execution_count": null,
   "metadata": {},
   "outputs": [],
   "source": [
    "# transcribe audio to text\n",
    "transcriptions = cls.predict(encoded_audio, BATCH_SIZE=16,ignoreLast=True)\n",
    "\n",
    "# transcriptions\n",
    "\n",
    "# # stich back transcriptions and save text\n",
    "# full_text = f\"\\n\".join(f\"{i}: {t}\" for i,t in enumerate(transcriptions)) \n",
    "# with open(output_text_filename,'w') as f:\n",
    "#     f.write(full_text)"
   ]
  },
  {
   "cell_type": "code",
   "execution_count": null,
   "metadata": {},
   "outputs": [],
   "source": [
    "import torch\n",
    "torch.device('cuda')\n",
    "torch.cuda.empty_cache()"
   ]
  }
 ],
 "metadata": {
  "kernelspec": {
   "display_name": "Python 3.7.13 ('nlp_py37')",
   "language": "python",
   "name": "python3"
  },
  "language_info": {
   "codemirror_mode": {
    "name": "ipython",
    "version": 3
   },
   "file_extension": ".py",
   "mimetype": "text/x-python",
   "name": "python",
   "nbconvert_exporter": "python",
   "pygments_lexer": "ipython3",
   "version": "3.7.13"
  },
  "orig_nbformat": 4,
  "vscode": {
   "interpreter": {
    "hash": "653cedd06a0483d0c9fdb2edfc8833b6e5af203742e4672e031d9c20ec6374f8"
   }
  }
 },
 "nbformat": 4,
 "nbformat_minor": 2
}
